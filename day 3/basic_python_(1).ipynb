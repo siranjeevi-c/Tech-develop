{
  "nbformat": 4,
  "nbformat_minor": 0,
  "metadata": {
    "colab": {
      "provenance": []
    },
    "kernelspec": {
      "name": "python3",
      "display_name": "Python 3"
    },
    "language_info": {
      "name": "python"
    }
  },
  "cells": [
    {
      "cell_type": "code",
      "execution_count": 1,
      "metadata": {
        "colab": {
          "base_uri": "https://localhost:8080/"
        },
        "id": "t1yog9Pl11M_",
        "outputId": "8557290e-dd46-45a5-b304-5c2fc3b58e84"
      },
      "outputs": [
        {
          "output_type": "stream",
          "name": "stdout",
          "text": [
            "20\n",
            "30\n",
            "50\n"
          ]
        }
      ],
      "source": [
        "a = int(input())\n",
        "b = int(input())\n",
        "c = (a+b)\n",
        "print(c)"
      ]
    },
    {
      "cell_type": "code",
      "source": [
        "Name = input()\n",
        "Age  = int(input())\n",
        "print(\"My Name is:\",Name)\n",
        "print(\"My Age is:\",Age)"
      ],
      "metadata": {
        "colab": {
          "base_uri": "https://localhost:8080/"
        },
        "id": "UQaNFzXK2PNJ",
        "outputId": "85af6633-9911-4dec-ea0b-0d08940739ab"
      },
      "execution_count": 6,
      "outputs": [
        {
          "output_type": "stream",
          "name": "stdout",
          "text": [
            "siranjeevi\n",
            "20\n",
            "My Name is: siranjeevi\n",
            "My Age is: 20\n"
          ]
        }
      ]
    },
    {
      "cell_type": "code",
      "source": [
        "Name = input()\n",
        "Age  = input()\n",
        "Address = input()\n",
        "print(\"My Name is:\",Name)\n",
        "print(\"My Age is:\",Age)\n",
        "print(\"My Address is:\",Address)"
      ],
      "metadata": {
        "colab": {
          "base_uri": "https://localhost:8080/"
        },
        "id": "HhAl501M3lJA",
        "outputId": "66811e30-c12c-4cf2-8d83-14f9ed0636c4"
      },
      "execution_count": 7,
      "outputs": [
        {
          "output_type": "stream",
          "name": "stdout",
          "text": [
            "siran\n",
            "20\n",
            "keelanatham,ariyalur\n",
            "My Name is: siran\n",
            "My Age is: 20\n",
            "My Address is: keelanatham,ariyalur\n"
          ]
        }
      ]
    },
    {
      "cell_type": "code",
      "source": [
        "a=int(input())\n",
        "b=int(input())\n",
        "c=int(input())\n",
        "d=a*b*c\n",
        "e=a+b+c\n",
        "f=d/e\n",
        "print(f)\n",
        ""
      ],
      "metadata": {
        "colab": {
          "base_uri": "https://localhost:8080/"
        },
        "id": "_DM3qsM23q00",
        "outputId": "4f8afa2c-b500-4372-ac51-7717f645e505"
      },
      "execution_count": 8,
      "outputs": [
        {
          "output_type": "stream",
          "name": "stdout",
          "text": [
            "5\n",
            "6\n",
            "7\n",
            "11.666666666666666\n"
          ]
        }
      ]
    },
    {
      "cell_type": "code",
      "source": [
        "name"
      ],
      "metadata": {
        "id": "g9FBKISN6Leo"
      },
      "execution_count": null,
      "outputs": []
    },
    {
      "cell_type": "code",
      "source": [
        "name=input()\n",
        "score=int(input())\n",
        "department=input()\n",
        "print(\"my name is:\",name)\n",
        "print(\"my score is:\",score/10,\"/10\")\n",
        "print(\"my department is:\",department)\n",
        "\n"
      ],
      "metadata": {
        "colab": {
          "base_uri": "https://localhost:8080/"
        },
        "id": "JT2mfR4_5wmn",
        "outputId": "f789c836-e678-42c4-d785-a35abcdb4efc"
      },
      "execution_count": 9,
      "outputs": [
        {
          "output_type": "stream",
          "name": "stdout",
          "text": [
            "siranjeevi\n",
            "80\n",
            "computer science\n",
            "my name is: siranjeevi\n",
            "my score is: 8.0 /10\n",
            "my department is: computer science\n"
          ]
        }
      ]
    },
    {
      "cell_type": "code",
      "source": [
        "if(False):\n",
        "   print(\"Yes\")\n",
        "else:\n",
        "     print(\"No\")"
      ],
      "metadata": {
        "colab": {
          "base_uri": "https://localhost:8080/"
        },
        "id": "Ab8vmvw38Mtq",
        "outputId": "75e90a87-9350-49bc-bdd1-74f7df8609cc"
      },
      "execution_count": null,
      "outputs": [
        {
          "output_type": "stream",
          "name": "stdout",
          "text": [
            "No\n"
          ]
        }
      ]
    },
    {
      "cell_type": "code",
      "source": [
        "print(\"win\"==\"winn\")"
      ],
      "metadata": {
        "colab": {
          "base_uri": "https://localhost:8080/"
        },
        "id": "0guVhysq9De9",
        "outputId": "e8e0685e-1cb6-483e-9b26-e22c96ecd523"
      },
      "execution_count": null,
      "outputs": [
        {
          "output_type": "stream",
          "name": "stdout",
          "text": [
            "False\n"
          ]
        }
      ]
    },
    {
      "cell_type": "code",
      "source": [
        "rcb=\"lose\"\n",
        "if(rcb==\"win\"):\n",
        "  print(\"Ee sala cup namde\")\n",
        "else:\n",
        "  print(\"cup illa\")"
      ],
      "metadata": {
        "colab": {
          "base_uri": "https://localhost:8080/"
        },
        "id": "MxSaM6499b9E",
        "outputId": "e0e63c58-85c4-43b3-bfc5-db942d268734"
      },
      "execution_count": null,
      "outputs": [
        {
          "output_type": "stream",
          "name": "stdout",
          "text": [
            "cup illa\n"
          ]
        }
      ]
    },
    {
      "cell_type": "code",
      "source": [
        "Meghna=input()\n",
        "if(Meghna==\"Died\"):\n",
        "  print(\"Surya meets Priya\")\n",
        "else:\n",
        "  print(\"Surya weds Meghna\")"
      ],
      "metadata": {
        "colab": {
          "base_uri": "https://localhost:8080/"
        },
        "id": "plRfKtl1-1Xz",
        "outputId": "8403d8ad-b6f5-4a92-f5c5-9b0b009967d6"
      },
      "execution_count": null,
      "outputs": [
        {
          "output_type": "stream",
          "name": "stdout",
          "text": [
            "Meghna\n",
            "Surya weds Meghna\n"
          ]
        }
      ]
    },
    {
      "cell_type": "code",
      "source": [
        "mark = int(input())\n",
        "if(mark>35):\n",
        "  print(\"pass\")\n",
        "else:\n",
        "  print(\"fail\")"
      ],
      "metadata": {
        "colab": {
          "base_uri": "https://localhost:8080/"
        },
        "id": "V1IG7yO4Ied5",
        "outputId": "ce72bb92-871d-46b0-b205-01de352d7dd0"
      },
      "execution_count": null,
      "outputs": [
        {
          "output_type": "stream",
          "name": "stdout",
          "text": [
            " 30\n",
            "fail\n"
          ]
        }
      ]
    },
    {
      "cell_type": "code",
      "source": [
        "income =int(input(\"income:\"))\n",
        "if(income>7000):\n",
        "  print(\"Not eligible for scholarship\")\n",
        "else:\n",
        "  print(\"Eligible for scholarship\")"
      ],
      "metadata": {
        "colab": {
          "base_uri": "https://localhost:8080/"
        },
        "id": "e2T6p_OiKBOp",
        "outputId": "7b7d86a3-30ad-49eb-97ab-cbda16f2bc0f"
      },
      "execution_count": null,
      "outputs": [
        {
          "output_type": "stream",
          "name": "stdout",
          "text": [
            "income:5000\n",
            "Eligible for scholarship\n"
          ]
        }
      ]
    },
    {
      "cell_type": "code",
      "source": [
        "a=int(input())\n",
        "if(a%5==0 and a%3==0):\n",
        "  print(\"Divisible by 3 and 5\")\n",
        "else:\n",
        "  print(\"Not divisible by 3 and 5\")\n"
      ],
      "metadata": {
        "colab": {
          "base_uri": "https://localhost:8080/"
        },
        "id": "Lk8vil3bLwxG",
        "outputId": "29bb77dd-0048-466b-ca0e-ebf737c20777"
      },
      "execution_count": null,
      "outputs": [
        {
          "output_type": "stream",
          "name": "stdout",
          "text": [
            "20\n",
            "Not divisible by 3 and 5\n"
          ]
        }
      ]
    },
    {
      "cell_type": "code",
      "source": [
        "a=int(input(\"Enter an number:\"))\n",
        "if(a%2==0):\n",
        "  print(\"Even\")\n",
        "else:\n",
        "  print(\"odd\")"
      ],
      "metadata": {
        "colab": {
          "base_uri": "https://localhost:8080/"
        },
        "id": "o5MHjzVbRODo",
        "outputId": "6ff7dec5-3899-4583-df43-02f6845b505c"
      },
      "execution_count": null,
      "outputs": [
        {
          "output_type": "stream",
          "name": "stdout",
          "text": [
            "Enter an number:13\n",
            "odd\n"
          ]
        }
      ]
    },
    {
      "cell_type": "code",
      "source": [
        "score=int(input(\"score:\"))\n",
        "if(score<35):\n",
        "  print(\"poor student\")\n",
        "elif(score>35 and score<70):\n",
        "  print(\"Average\")\n",
        "elif(score>70 and score<100):\n",
        "  print(\"Good student\")\n",
        "else:\n",
        "  print(\"Invalid\")"
      ],
      "metadata": {
        "colab": {
          "base_uri": "https://localhost:8080/"
        },
        "id": "pnYxewI9SPqV",
        "outputId": "d5064cf9-fe0e-490f-9480-1c8161238922"
      },
      "execution_count": null,
      "outputs": [
        {
          "output_type": "stream",
          "name": "stdout",
          "text": [
            "score:105\n",
            "Invalid\n"
          ]
        }
      ]
    },
    {
      "cell_type": "code",
      "source": [
        "a=int(input(\"A:\"))\n",
        "b=int(input(\"B:\"))\n",
        "operation=input(\"add/sub/mul/div\")\n",
        "if(operation==\"add\"):\n",
        "  print(a+b)\n",
        "elif(operation==\"sub\"):\n",
        "  print(a-b)\n",
        "elif(operation==\"mul\"):\n",
        "  print(a*b)\n",
        "elif(operation==\"div\"):\n",
        "  print(a/b)\n",
        "else:\n",
        "  print(\"invalid operation\")"
      ],
      "metadata": {
        "colab": {
          "base_uri": "https://localhost:8080/"
        },
        "id": "cal3mO_7XX-1",
        "outputId": "f484dddd-1a3a-4d3f-9f7b-ca5353108efa"
      },
      "execution_count": 10,
      "outputs": [
        {
          "output_type": "stream",
          "name": "stdout",
          "text": [
            "A:10\n",
            "B:20\n",
            "add/sub/mul/divmul\n",
            "200\n"
          ]
        }
      ]
    },
    {
      "cell_type": "code",
      "source": [
        "score = int(input(\"score percentage:\"))\n",
        "if(score>=70):\n",
        "  name=input(\"Enter your name\")\n",
        "  age=input(\"Enter your age\")\n",
        "  department=input(\"Enter your department\")\n",
        "  print(\"you are eligible\")\n",
        "else:\n",
        "  print(\"you are not eligible\")\n",
        "\n"
      ],
      "metadata": {
        "id": "1zmrYVmDY5W7",
        "colab": {
          "base_uri": "https://localhost:8080/"
        },
        "outputId": "c1d193f3-0084-4d97-ce8f-d9f6a9c48716"
      },
      "execution_count": 13,
      "outputs": [
        {
          "output_type": "stream",
          "name": "stdout",
          "text": [
            "score percentage:75\n",
            "Enter your namesiran\n",
            "Enter your age23\n",
            "Enter your departmentCSE\n",
            "you are eligible\n"
          ]
        }
      ]
    },
    {
      "cell_type": "code",
      "source": [
        "salary = int(input(\"salary:\"))\n",
        "age   = int(input(\"age:\"))\n",
        "if(salary>=20000 or age<=25):\n",
        "  loan=int(input(\"loan:\"))\n",
        "  if(loan>50000):\n",
        "    print(\"Maximum loan amount is 50000\")\n",
        "  else:\n",
        "    print(\"you are eligible for loan\")\n",
        "\n",
        "else:\n",
        "  print(\"you are not eligible\")"
      ],
      "metadata": {
        "colab": {
          "base_uri": "https://localhost:8080/"
        },
        "id": "6Srh5fI73W68",
        "outputId": "95c2004b-632a-4faf-aa2d-f0ce477551c5"
      },
      "execution_count": null,
      "outputs": [
        {
          "output_type": "stream",
          "name": "stdout",
          "text": [
            "salary:20000\n",
            "age:22\n",
            "loan:60000\n",
            "Maximum loan amount is 50000\n"
          ]
        }
      ]
    },
    {
      "cell_type": "code",
      "source": [
        "a=int(input(\"subject 1:\"))\n",
        "b=int(input(\"subject 2:\"))\n",
        "c=int(input(\"subject 3:\"))\n",
        "d=int(input(\"subject 4:\"))\n",
        "e=int(input(\"subject 5:\"))\n",
        "f=(a+b+c+d+e)/5\n",
        "if(f<=35):\n",
        "  print(\"additional class required\")\n",
        "else:\n",
        "  print(\"you are good to go\")\n"
      ],
      "metadata": {
        "colab": {
          "base_uri": "https://localhost:8080/"
        },
        "id": "0bEsJBSe8HDA",
        "outputId": "6f8d0c85-5d6a-42f8-805f-7b7d61a2e72e"
      },
      "execution_count": null,
      "outputs": [
        {
          "output_type": "stream",
          "name": "stdout",
          "text": [
            "subject 1:35\n",
            "subject 2:25\n",
            "subject 3:34\n",
            "subject 4:28\n",
            "subject 5:20\n",
            "additional class required\n"
          ]
        }
      ]
    },
    {
      "cell_type": "markdown",
      "source": [],
      "metadata": {
        "id": "6SNwqgcK3vLE"
      }
    }
  ]
}